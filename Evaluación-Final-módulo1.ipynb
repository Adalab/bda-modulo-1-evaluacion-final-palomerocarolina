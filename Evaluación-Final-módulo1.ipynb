{
 "cells": [
  {
   "cell_type": "markdown",
   "metadata": {},
   "source": [
    "Evaluación Final Módulo 1"
   ]
  },
  {
   "cell_type": "code",
   "execution_count": 13,
   "metadata": {},
   "outputs": [],
   "source": [
    "class TiendaOnline:\n",
    "    def __init__(self): # Creo el método constructor de la clase\n",
    "        self.inventario = []      # Creo una lista vacía para el inventario que representará los productos de la tienda[{nombre, precio, cantidad}]\n",
    "        self.clientes = {}        # Creo un diccionario vacío para almacenar los clientes y sus datos:{nombre, email}\n",
    "        self.ventas_totales = 0   # Creo un contador de la ventas totales, nicialmente establecido en 0\n",
    "\n",
    "\n",
    "    def agregar_producto(self, nombre, precio, cantidad):\n",
    "        for producto in self.inventario: # Iteramos por el inventario con un bucle for para ver si existe el nombre del producto proporcionado\n",
    "        \n",
    "            # Si el producto ya existe, actualizamos su cantidad\n",
    "            if producto['nombre'] == nombre:\n",
    "                producto['cantidad'] += cantidad\n",
    "                print(f\"Se han agregado {cantidad} unidades del producto '{nombre}'.\")\n",
    "                return self.inventario   # Utilizo un return para salir del método, ya que no es necesario seguir buscando o agregar un nuevo producto.\n",
    "            \n",
    "            # Si el producto no está en el inventario, lo agregamos a éste con el método append.\n",
    "            else:\n",
    "                self.inventario.append({'nombre': nombre, 'precio': precio, 'cantidad': cantidad})\n",
    "                print(f\"El producto '{nombre}' ha sido agregado al inventario con éxito.\")\n",
    "            return self.inventario\n",
    "      \n",
    "    \n",
    "    def ver_inventario(self):\n",
    "        for producto in self.inventario: # Con este método iteramos sobre el inventario y muestra el nombre, precio y cantidad de cada producto.\n",
    "            print(f\"Nombre: {producto['nombre']}, Precio: {producto['precio']}, Cantidad: {producto['cantidad']}\")\n",
    "\n",
    "\n"
   ]
  }
 ],
 "metadata": {
  "kernelspec": {
   "display_name": "base",
   "language": "python",
   "name": "python3"
  },
  "language_info": {
   "name": "python",
   "version": "3.1.-1"
  }
 },
 "nbformat": 4,
 "nbformat_minor": 2
}

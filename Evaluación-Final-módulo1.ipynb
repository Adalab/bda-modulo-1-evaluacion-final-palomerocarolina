{
 "cells": [
  {
   "cell_type": "markdown",
   "metadata": {},
   "source": [
    "Evaluación Final Módulo 1"
   ]
  },
  {
   "cell_type": "code",
   "execution_count": 190,
   "metadata": {},
   "outputs": [],
   "source": [
    "class TiendaOnline:\n",
    "    def __init__(self): # Creo el método constructor de la clase\n",
    "        self.inventario = []      # Creo una lista vacía para el inventario que representará los productos de la tienda[{nombre, precio, cantidad}]\n",
    "        self.clientes = {}        # Creo un diccionario vacío para almacenar los clientes y sus datos:{nombre, email}\n",
    "        self.ventas_totales = 0.0  # Creo un contador de la ventas totales, nicialmente establecido en 0\n",
    "\n",
    "\n",
    "    def agregar_producto(self, nombre, precio, cantidad):\n",
    "        # Busca si el producto ya existe en el inventario\n",
    "        for producto in self.inventario:\n",
    "            if producto[\"nombre\"] == nombre:\n",
    "                # Si el producto existe, actualiza la cantidad\n",
    "                producto[\"cantidad\"] += cantidad\n",
    "                print(f\"Producto {nombre} actualizado con éxito\")\n",
    "                return #this return is necessary to stop executing the code and create a new product.\n",
    "        # Si no existe, se agrega un nuevo producto al inventario  \n",
    "        nuevo_producto = {\"nombre\": nombre, \"precio\": precio, \"cantidad\": cantidad}\n",
    "        self.inventario.append(nuevo_producto)\n",
    "        print(f\"{nuevo_producto} ha sido añadido con éxito.\")\n",
    "\n",
    "\n",
    "\n",
    "    \n",
    "    def ver_inventario(self):\n",
    "        for producto in self.inventario: # Con este método iteramos sobre el inventario y muestra el nombre, precio y cantidad de cada producto.\n",
    "            print(f\"Nombre: {producto['nombre']}, Precio: {producto['precio']}, Cantidad: {producto['cantidad']}\")\n",
    "\n",
    "\n",
    "\n",
    "     \n",
    "    def buscar_producto(self, nombre):\n",
    "        for producto in self.inventario:\n",
    "            if producto['nombre'] == nombre:\n",
    "                print(f\"Nombre: {producto['nombre']}, Precio: ${producto['precio']}, Cantidad: {producto['cantidad']}\") \n",
    "                \n",
    "        else:   \n",
    "            print(f\"El producto '{nombre}' no está en el inventario.\")\n",
    "\n",
    "\n",
    "\n",
    "\n",
    "    def actualizar_stock(self, nombre, cantidad):\n",
    " \n",
    "        # Iteramos el inventario con un bucle for\n",
    "         for producto in self.inventario: # Se busca el producto(nombre) en el inventario actual\n",
    "            if producto[\"nombre\"]== nombre:\n",
    "                producto[\"cantidad\"] += cantidad # si el producto existe en el inventario actualizamos el stock, sumándole la cantidad proporcionada.\n",
    "                print(f\"Actualmente el producto {nombre} tiene {cantidad} unidades\")\n",
    "                return\n",
    "         else:\n",
    "            print(f\"El producto {nombre} no se encuentra en stock\") # si el producto no existe en el inventario printeamos un mensaje de que no existe\n",
    "         "
   ]
  },
  {
   "cell_type": "code",
   "execution_count": 191,
   "metadata": {},
   "outputs": [
    {
     "name": "stdout",
     "output_type": "stream",
     "text": [
      "{'nombre': 'Camisa', 'precio': 20, 'cantidad': 40} ha sido añadido con éxito.\n",
      "{'nombre': 'Pantalón', 'precio': 30, 'cantidad': 30} ha sido añadido con éxito.\n",
      "Producto Pantalón actualizado con éxito\n",
      "{'nombre': 'Vestido', 'precio': 45, 'cantidad': 20} ha sido añadido con éxito.\n",
      "---------------------\n",
      "Nombre: Camisa, Precio: 20, Cantidad: 40\n",
      "Nombre: Pantalón, Precio: 30, Cantidad: 40\n",
      "Nombre: Vestido, Precio: 45, Cantidad: 20\n",
      "------------------------\n",
      "El producto 'Zapatos' no está en el inventario.\n",
      "El producto 'Falda' no está en el inventario.\n",
      "Nombre: Vestido, Precio: $45, Cantidad: 20\n",
      "El producto 'Vestido' no está en el inventario.\n",
      "Nombre: Camisa, Precio: $20, Cantidad: 40\n",
      "El producto 'Camisa' no está en el inventario.\n",
      "El producto 'Bolso' no está en el inventario.\n",
      "------------------------\n",
      "Actualmente el producto Camisa tiene 5 unidades\n",
      "El producto Bolso no se encuentra en stock\n"
     ]
    }
   ],
   "source": [
    "tienda = TiendaOnline()\n",
    "tienda.agregar_producto(\"Camisa\", 20, 40)\n",
    "tienda.agregar_producto(\"Pantalón\", 30, 30)\n",
    "tienda.agregar_producto(\"Pantalón\", 40, 10)\n",
    "tienda.agregar_producto(\"Vestido\", 45, 20)\n",
    "print(\"---------------------\")\n",
    "tienda.ver_inventario()\n",
    "print(\"------------------------\")\n",
    "\n",
    "tienda.buscar_producto(\"Zapatos\")\n",
    "tienda.buscar_producto(\"Falda\")\n",
    "tienda.buscar_producto(\"Vestido\")\n",
    "tienda.buscar_producto(\"Camisa\")\n",
    "tienda.buscar_producto(\"Bolso\")\n",
    "print(\"------------------------\")\n",
    "\n",
    "tienda.actualizar_stock(\"Camisa\", 5)\n",
    "tienda.actualizar_stock(\"Bolso\", 20)\n",
    "\n"
   ]
  },
  {
   "cell_type": "code",
   "execution_count": null,
   "metadata": {},
   "outputs": [],
   "source": []
  }
 ],
 "metadata": {
  "kernelspec": {
   "display_name": "base",
   "language": "python",
   "name": "python3"
  },
  "language_info": {
   "codemirror_mode": {
    "name": "ipython",
    "version": 3
   },
   "file_extension": ".py",
   "mimetype": "text/x-python",
   "name": "python",
   "nbconvert_exporter": "python",
   "pygments_lexer": "ipython3",
   "version": "3.11.7"
  }
 },
 "nbformat": 4,
 "nbformat_minor": 2
}
